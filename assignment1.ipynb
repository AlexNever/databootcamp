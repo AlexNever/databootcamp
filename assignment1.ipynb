{
  "nbformat": 4,
  "nbformat_minor": 0,
  "metadata": {
    "colab": {
      "provenance": [],
      "include_colab_link": true
    },
    "kernelspec": {
      "name": "python3",
      "display_name": "Python 3"
    },
    "language_info": {
      "name": "python"
    }
  },
  "cells": [
    {
      "cell_type": "markdown",
      "metadata": {
        "id": "view-in-github",
        "colab_type": "text"
      },
      "source": [
        "<a href=\"https://colab.research.google.com/github/AlexNever/databootcamp/blob/main/assignment1.ipynb\" target=\"_parent\"><img src=\"https://colab.research.google.com/assets/colab-badge.svg\" alt=\"Open In Colab\"/></a>"
      ]
    },
    {
      "cell_type": "code",
      "execution_count": null,
      "metadata": {
        "colab": {
          "base_uri": "https://localhost:8080/"
        },
        "id": "mEIhr-H9NtJs",
        "outputId": "e1427fec-473a-46d3-9800-9a469165cda9"
      },
      "outputs": [
        {
          "output_type": "stream",
          "name": "stdout",
          "text": [
            "1.0 -11.0 -30.0 -0.8333333333333334 15625.0 1.0\n",
            "operator not found 1.0\n"
          ]
        }
      ],
      "source": [
        "# Operator Function\n",
        "\n",
        "def op(num1, num2, operator):\n",
        "  try:\n",
        "    num1 = float(num1)\n",
        "    num2 = float(num2)\n",
        "  except:\n",
        "    return \"bad input\"\n",
        "  if operator == \"add\":\n",
        "    return num1 + num2\n",
        "  elif operator == \"subtract\":\n",
        "    return num1 - num2\n",
        "  elif operator == \"multiply\":\n",
        "    return num1 * num2\n",
        "  elif operator == \"divide\":\n",
        "    return num1/num2\n",
        "  elif operator == \"power\":\n",
        "    return num1**num2\n",
        "  elif operator == \"modulo\":\n",
        "    return num1 % num2\n",
        "  else:\n",
        "    return \"operator not found\"\n",
        "\n",
        "# valid input\n",
        "print(\n",
        "  op(-5,6,\"add\"),\n",
        "  op(-5,6,\"subtract\"),\n",
        "  op(-5,6,\"multiply\"),\n",
        "  op(-5,6,\"divide\"),\n",
        "  op(-5,6,\"power\"),\n",
        "  op(-5,6,\"modulo\"),\n",
        "      )\n",
        "\n",
        "# non-standard input\n",
        "print(\n",
        "  op(-5,5,\"ad\"),\n",
        "  op(-5,\"6\",\"add\")\n",
        ")"
      ]
    },
    {
      "cell_type": "code",
      "source": [
        "# Discount Calculator\n",
        "\n",
        "def discount_calc(price):\n",
        "    try:\n",
        "        price = float(price)\n",
        "    except Exception:\n",
        "        return \"bad input\"\n",
        "\n",
        "    if price > 50:\n",
        "      return price * 0.9\n",
        "    else:\n",
        "      return price\n",
        "\n",
        "print(\n",
        "    discount_calc(90),\n",
        "    discount_calc(30),\n",
        "    discount_calc(\"90\"),\n",
        "    discount_calc(\"Thirty\")\n",
        ")"
      ],
      "metadata": {
        "colab": {
          "base_uri": "https://localhost:8080/"
        },
        "id": "Ls6UgFB1OqzA",
        "outputId": "418043ef-c0b0-4f4a-9893-b7f4a5fde84c"
      },
      "execution_count": null,
      "outputs": [
        {
          "output_type": "stream",
          "name": "stdout",
          "text": [
            "81.0 30.0 81.0 bad input\n"
          ]
        }
      ]
    },
    {
      "cell_type": "code",
      "source": [
        "# Currency Converter for USD, EUR, JPY, GBP (in terms of USD)\n",
        "\n",
        "def conv(source, target):\n",
        "  usd_to = [[\"USD\", \"EUR\", \"JPY\", \"GBP\"], [1, .92, 131.2, 0.83]]\n",
        "  try:\n",
        "    source_i = usd_to[0].index(source)\n",
        "  except Exception:\n",
        "      return print(\"invalid source: \", \"\\\"\", source, \"\\\"\", sep=\"\")\n",
        "  \n",
        "  try:\n",
        "    target_i = usd_to[0].index(target)\n",
        "  except Exception:\n",
        "      return print(\"invalid target: \", \"\\\"\", target, \"\\\"\", sep=\"\")\n",
        "\n",
        "  source_value = usd_to[1][source_i]\n",
        "  target_value = usd_to[1][target_i]\n",
        "\n",
        "  output = target_value/source_value\n",
        "\n",
        "  return output\n",
        "\n",
        "# Valid Input\n",
        "[\n",
        "  [ \"EUR:\",\n",
        "    conv(\"EUR\", \"USD\"),\n",
        "    conv(\"EUR\", \"JPY\"),\n",
        "    conv(\"EUR\", \"GBP\") \n",
        "  ],\n",
        " [ \"USD:\",\n",
        "    conv(\"USD\", \"EUR\"),\n",
        "    conv(\"USD\", \"JPY\"),\n",
        "    conv(\"USD\", \"GBP\")  \n",
        " ],\n",
        " [ \"JPY:\",\n",
        "    conv(\"JPY\", \"EUR\"),\n",
        "    conv(\"JPY\", \"USD\"),\n",
        "    conv(\"JPY\", \"GBP\")  \n",
        " ],\n",
        " [ \"GBP:\",\n",
        "    conv(\"GBP\", \"EUR\"),\n",
        "    conv(\"GBP\", \"USD\"),\n",
        "    conv(\"GBP\", \"JPY\")\n",
        " ]\n",
        "]"
      ],
      "metadata": {
        "colab": {
          "base_uri": "https://localhost:8080/"
        },
        "id": "dl1Ehjn6SBd5",
        "outputId": "4f5aaea0-36b6-4d2f-b3d1-d90c6f7c9a87"
      },
      "execution_count": null,
      "outputs": [
        {
          "output_type": "execute_result",
          "data": {
            "text/plain": [
              "[['EUR:', 1.0869565217391304, 142.6086956521739, 0.9021739130434782],\n",
              " ['USD:', 0.92, 131.2, 0.83],\n",
              " ['JPY:', 0.0070121951219512205, 0.007621951219512196, 0.006326219512195122],\n",
              " ['GBP:', 1.108433734939759, 1.2048192771084338, 158.0722891566265]]"
            ]
          },
          "metadata": {},
          "execution_count": 34
        }
      ]
    },
    {
      "cell_type": "code",
      "source": [
        "# Currency Conversion Tests Continued\n",
        "## Invalid Input\n",
        "print(\n",
        "    conv(\"nonsense\", \"nonsense\"),\n",
        "    conv(\"EUR\", \"nonsense\")\n",
        ")\n"
      ],
      "metadata": {
        "colab": {
          "base_uri": "https://localhost:8080/"
        },
        "id": "UA_MF85LV3Hk",
        "outputId": "816538da-01e3-41ef-ff68-562c474e5088"
      },
      "execution_count": null,
      "outputs": [
        {
          "output_type": "stream",
          "name": "stdout",
          "text": [
            "invalid source: \"nonsense\"\n",
            "invalid target: \"nonsense\"\n",
            "None None\n"
          ]
        }
      ]
    },
    {
      "cell_type": "code",
      "source": [
        "def loan_eligibility(age, credit_score):\n",
        "  try:\n",
        "       age = float(age)\n",
        "       credit_score = float(credit_score)\n",
        "  except Exception:\n",
        "       return \"bad input\"  \n",
        "\n",
        "  if credit_score > 800 or credit_score < 0:\n",
        "    return \"invalid credit score\"\n",
        "  else:\n",
        "  # loan eligibility if score above 1.5.\n",
        "  ## age score (assume: 40 is prime loan age, eldery candidates receive poor scores)\n",
        "    a_score = 1 - abs(age-40)/40\n",
        "  ## credit score (the closer to 800, the better\n",
        "    c_score = credit_score/800\n",
        "  # Higher weight toward credit score\n",
        "    eli = (c_score*0.9 + a_score*0.1)/2\n",
        "\n",
        "    if eli > 0.4:\n",
        "      return print(\"eligible: \", eli, sep=\"\")\n",
        "    else:\n",
        "      return print(\"ineligible: \", eli, sep=\"\")\n",
        "\n",
        "# Normal testing\n",
        "loan_eligibility(10, 800)\n",
        "loan_eligibility(40, 800)\n",
        "loan_eligibility(70, 800)\n",
        "\n",
        "loan_eligibility(10, 600)\n",
        "loan_eligibility(40, 600)\n",
        "loan_eligibility(70, 600)\n",
        "\n",
        "# Special testing\n",
        "loan_eligibility(\"10\", \"600\")\n",
        "loan_eligibility(\"ten\", \"good\")\n",
        "\n",
        "\n",
        "  "
      ],
      "metadata": {
        "colab": {
          "base_uri": "https://localhost:8080/",
          "height": 157
        },
        "id": "YSIcgW0hYTwN",
        "outputId": "af2db399-52c2-42e0-cec2-08ca5b9658ae"
      },
      "execution_count": null,
      "outputs": [
        {
          "output_type": "stream",
          "name": "stdout",
          "text": [
            "eligible: 0.4625\n",
            "eligible: 0.5\n",
            "eligible: 0.4625\n",
            "ineligible: 0.35000000000000003\n",
            "ineligible: 0.3875\n",
            "ineligible: 0.35000000000000003\n",
            "ineligible: 0.35000000000000003\n"
          ]
        },
        {
          "output_type": "execute_result",
          "data": {
            "text/plain": [
              "'bad input'"
            ],
            "application/vnd.google.colaboratory.intrinsic+json": {
              "type": "string"
            }
          },
          "metadata": {},
          "execution_count": 36
        }
      ]
    },
    {
      "cell_type": "code",
      "source": [
        "# Challenge: Find the sum of all the multiples of 3 or 5 below 1000.\n",
        "\n",
        "def sum_fct(fac1, fac2, upper):\n",
        "  multiples = []\n",
        "  for i in range(1, int(upper)):\n",
        "    if i % fac1 == 0:\n",
        "      multiples.append(i)\n",
        "    elif i % fac2 == 0:\n",
        "      multiples.append(i)\n",
        "\n",
        "  return sum(multiples)\n",
        "\n",
        "sum_fct(3, 5, 1000)"
      ],
      "metadata": {
        "id": "cM2nsQjIaa4q",
        "colab": {
          "base_uri": "https://localhost:8080/"
        },
        "outputId": "6e1c22f5-a1bc-4289-9041-24fd578350da"
      },
      "execution_count": null,
      "outputs": [
        {
          "output_type": "execute_result",
          "data": {
            "text/plain": [
              "233168"
            ]
          },
          "metadata": {},
          "execution_count": 37
        }
      ]
    },
    {
      "cell_type": "code",
      "source": [],
      "metadata": {
        "id": "_X_OAcPLjexz"
      },
      "execution_count": null,
      "outputs": []
    }
  ]
}